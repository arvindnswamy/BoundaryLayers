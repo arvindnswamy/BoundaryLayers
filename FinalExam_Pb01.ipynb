{
  "nbformat": 4,
  "nbformat_minor": 0,
  "metadata": {
    "colab": {
      "name": "FinalExam_Pb01.ipynb",
      "version": "0.3.2",
      "provenance": [],
      "collapsed_sections": [],
      "include_colab_link": true
    },
    "kernelspec": {
      "name": "python3",
      "display_name": "Python 3"
    }
  },
  "cells": [
    {
      "cell_type": "markdown",
      "metadata": {
        "id": "view-in-github",
        "colab_type": "text"
      },
      "source": [
        "<a href=\"https://colab.research.google.com/github/arvindnswamy/BoundaryLayers/blob/master/FinalExam_Pb01.ipynb\" target=\"_parent\"><img src=\"https://colab.research.google.com/assets/colab-badge.svg\" alt=\"Open In Colab\"/></a>"
      ]
    },
    {
      "cell_type": "code",
      "metadata": {
        "id": "DM6wggmqYelK",
        "colab_type": "code",
        "outputId": "71771ddf-8d2b-42cb-fc19-ffe5facf4137",
        "colab": {
          "base_uri": "https://localhost:8080/",
          "height": 72
        }
      },
      "source": [
        "import numpy as np\n",
        "import scipy as sci\n",
        "import matplotlib.pyplot as plt\n",
        "from matplotlib.ticker import ScalarFormatter\n",
        "from scipy.integrate import solve_bvp\n",
        "import matplotlib\n",
        "\n",
        "from scipy import interpolate\n",
        "\n",
        "\n",
        "matplotlib.rcParams['font.size'] = 24\n",
        "matplotlib.rcParams['legend.fontsize'] = 24\n",
        "\n",
        "\n",
        "Pr = np.logspace(-4,2,60)\n",
        "\n",
        "Pr = np.logspace(-2,-2,1)\n",
        "\n",
        "counter = 0\n",
        "n=600\n",
        "#theta = np.zeros((len(Pr),6,n))\n",
        "theta = np.zeros((len(Pr),n))\n",
        "#thetap= []\n",
        "\n",
        "\n",
        "for p in Pr:\n",
        "  eps = 0.1\n",
        "  \n",
        "  \n",
        "  if (p < 1.0):\n",
        "    def odetobesolved(t, y):\n",
        "      #when mwedge = 0, you should get back the results of the flat plate solution\n",
        "      return np.vstack((y[1], y[2], 0.2*(3*y[1]**2-4*y[0]*y[2]) - y[3], y[4], 0.2*p*(y[3]*y[1]-4*y[0]*y[4]))) \n",
        "  else:\n",
        "    def odetobesolved(t, y):\n",
        "      #when mwedge = 0, you should get back the results of the flat plate solution\n",
        "      return np.vstack((y[1], y[2], 1/p*0.2*(3*y[1]**2-4*y[0]*y[2]) - y[3], y[4], 0.2*(y[3]*y[1]-4*y[0]*y[4])))\n",
        "  \n",
        "  def odebc(ya, yb):\n",
        "    return np.array([ya[0], ya[1],  yb[1], ya[4]+1.0, yb[3]])\n",
        "  \n",
        "  xmax = np.max((20.0, 20*(1/p)**(0.2))) #Code to increase the range over which eta is integrated for low Pr fluids\n",
        " \n",
        "  x = np.linspace(0.0, xmax, n)\n",
        "  y = np.array([(1-np.exp(-x)), (1-np.exp(-x))*np.exp(-x), np.exp(-x), np.exp(-x), -np.exp(-x)]) #initial guess\n",
        "\n",
        "  sol = solve_bvp(odetobesolved, odebc, x, y)\n",
        "  \n",
        "\n",
        "  if sol.status != 0:\n",
        "      print(\"WARNING: sol.status is %d\" % sol.status)\n",
        "  theta[counter,:] = sol.y[3,0]\n",
        "  counter += 1\n",
        "\n",
        "  \n",
        "'''\n",
        "f, (ax1) = plt.subplots(1, figsize=(9,6))\n",
        "ax1.plot(Pr,theta[:,0]**(-1), '-', color='C1', label='$y_4(x)$')\n",
        "ax1.grid(alpha=0.5)\n",
        "ax1.legend(framealpha=1, shadow=True)\n",
        "ax1.set_xlabel(r'Prandtl number $(Pr)$')\n",
        "ax1.set_ylabel(r'$(\\theta(0;Pr))^{-1}$')\n",
        "ax1.set_xscale(\"log\")\n",
        "ax1.set_yscale(\"log\")\n",
        "plt.show()\n",
        "\n",
        "\n",
        "f = interpolate.interp1d(sol.y[1], sol.x) #interpolating\n",
        "print('u/U_{\\infty} = 0.99 when eta = ', f(0.99))\n",
        "\n",
        "#Exponent for Pr number - low Pr limit\n",
        "#Choose Pr lower than 0.01\n",
        "lowPr = Pr[0:20]\n",
        "lowPrTheta = theta[0:20,0]\n",
        "#The slope on the graph below is the exponent of Pr.\n",
        "nlowPrApprox = np.log(lowPrTheta[0]/lowPrTheta[1:])/np.log(lowPr[1:]/lowPr[0])\n",
        "#If we have done all things right, nlowPrApprox must be an array which is approximately the theoretical value.\n",
        "print('mean value of Pr exponent for low Pr is: ', np.mean(nlowPrApprox))\n",
        "\n",
        "modhiPr = Pr[40:]\n",
        "modhiPrTheta = theta[40:,0]\n",
        "nmodhiPrApprox = np.log(modhiPrTheta[-1]/modhiPrTheta[:-1])/np.log(modhiPr[:-1]/modhiPr[-1])\n",
        "print('mean value of Pr exponent for mod/hi Pr is: ', np.mean(nmodhiPrApprox))\n",
        "\n",
        "mean_nlowPr = np.mean(nlowPrApprox)\n",
        "mean_nmodhiPr = np.mean(nmodhiPrApprox)\n",
        "\n",
        "mean_ClowPr = np.mean((lowPrTheta**(-1))/lowPr**mean_nlowPr)\n",
        "mean_CmodhiPr = np.mean(modhiPrTheta**(-1)/modhiPr**mean_nmodhiPr)\n",
        "\n",
        "print('C for low Pr is:', mean_ClowPr)\n",
        "print('C for high Pr is:', mean_CmodhiPr)\n",
        "'''"
      ],
      "execution_count": 0,
      "outputs": [
        {
          "output_type": "stream",
          "text": [
            "WARNING: sol.status is 1\n"
          ],
          "name": "stdout"
        },
        {
          "output_type": "execute_result",
          "data": {
            "text/plain": [
              "'\\nf, (ax1) = plt.subplots(1, figsize=(9,6))\\nax1.plot(Pr,theta[:,0]**(-1), \\'-\\', color=\\'C1\\', label=\\'$y_4(x)$\\')\\nax1.grid(alpha=0.5)\\nax1.legend(framealpha=1, shadow=True)\\nax1.set_xlabel(r\\'Prandtl number $(Pr)$\\')\\nax1.set_ylabel(r\\'$(\\theta(0;Pr))^{-1}$\\')\\nax1.set_xscale(\"log\")\\nax1.set_yscale(\"log\")\\nplt.show()\\n\\n\\nf = interpolate.interp1d(sol.y[1], sol.x) #interpolating\\nprint(\\'u/U_{\\\\infty} = 0.99 when eta = \\', f(0.99))\\n\\n#Exponent for Pr number - low Pr limit\\n#Choose Pr lower than 0.01\\nlowPr = Pr[0:20]\\nlowPrTheta = theta[0:20,0]\\n#The slope on the graph below is the exponent of Pr.\\nnlowPrApprox = np.log(lowPrTheta[0]/lowPrTheta[1:])/np.log(lowPr[1:]/lowPr[0])\\n#If we have done all things right, nlowPrApprox must be an array which is approximately the theoretical value.\\nprint(\\'mean value of Pr exponent for low Pr is: \\', np.mean(nlowPrApprox))\\n\\nmodhiPr = Pr[40:]\\nmodhiPrTheta = theta[40:,0]\\nnmodhiPrApprox = np.log(modhiPrTheta[-1]/modhiPrTheta[:-1])/np.log(modhiPr[:-1]/modhiPr[-1])\\nprint(\\'mean value of Pr exponent for mod/hi Pr is: \\', np.mean(nmodhiPrApprox))\\n\\nmean_nlowPr = np.mean(nlowPrApprox)\\nmean_nmodhiPr = np.mean(nmodhiPrApprox)\\n\\nmean_ClowPr = np.mean((lowPrTheta**(-1))/lowPr**mean_nlowPr)\\nmean_CmodhiPr = np.mean(modhiPrTheta**(-1)/modhiPr**mean_nmodhiPr)\\n\\nprint(\\'C for low Pr is:\\', mean_ClowPr)\\nprint(\\'C for high Pr is:\\', mean_CmodhiPr)\\n'"
            ]
          },
          "metadata": {
            "tags": []
          },
          "execution_count": 21
        }
      ]
    },
    {
      "cell_type": "code",
      "metadata": {
        "id": "OnnsgDzNgb4T",
        "colab_type": "code",
        "outputId": "82a59911-f945-4c36-d4f8-c66353dca89e",
        "colab": {
          "base_uri": "https://localhost:8080/",
          "height": 300
        }
      },
      "source": [
        "plt.plot(sol.x, sol.y[4])"
      ],
      "execution_count": 0,
      "outputs": [
        {
          "output_type": "execute_result",
          "data": {
            "text/plain": [
              "[<matplotlib.lines.Line2D at 0x7f7516ed4080>]"
            ]
          },
          "metadata": {
            "tags": []
          },
          "execution_count": 25
        },
        {
          "output_type": "display_data",
          "data": {
            "image/png": "[encoded data removed]",
            "text/plain": [
              "<Figure size 432x288 with 1 Axes>"
            ]
          },
          "metadata": {
            "tags": []
          }
        }
      ]
    },
    {
      "cell_type": "code",
      "metadata": {
        "id": "ipF73Pqqgdce",
        "colab_type": "code",
        "outputId": "bb476bc4-2dd7-4727-bdea-470ebba97e8e",
        "colab": {
          "base_uri": "https://localhost:8080/",
          "height": 34
        }
      },
      "source": [
        "1/sol.y[3][0]"
      ],
      "execution_count": 0,
      "outputs": [
        {
          "output_type": "execute_result",
          "data": {
            "text/plain": [
              "0.13993568730499326"
            ]
          },
          "metadata": {
            "tags": []
          },
          "execution_count": 26
        }
      ]
    },
    {
      "cell_type": "code",
      "metadata": {
        "id": "NXPHcilEgs14",
        "colab_type": "code",
        "colab": {}
      },
      "source": [
        ""
      ],
      "execution_count": 0,
      "outputs": []
    }
  ]
}