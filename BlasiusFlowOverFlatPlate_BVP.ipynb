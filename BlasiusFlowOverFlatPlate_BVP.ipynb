{
  "nbformat": 4,
  "nbformat_minor": 0,
  "metadata": {
    "colab": {
      "name": "BlasiusFlowOverFlatPlate_BVP.ipynb",
      "version": "0.3.2",
      "provenance": [],
      "collapsed_sections": [],
      "include_colab_link": true
    },
    "kernelspec": {
      "name": "python3",
      "display_name": "Python 3"
    }
  },
  "cells": [
    {
      "cell_type": "markdown",
      "metadata": {
        "id": "view-in-github",
        "colab_type": "text"
      },
      "source": [
        "<a href=\"https://colab.research.google.com/github/arvindnswamy/BoundaryLayers/blob/master/BlasiusFlowOverFlatPlate_BVP.ipynb\" target=\"_parent\"><img src=\"https://colab.research.google.com/assets/colab-badge.svg\" alt=\"Open In Colab\"/></a>"
      ]
    },
    {
      "metadata": {
        "id": "CkTvMbjsACgL",
        "colab_type": "code",
        "colab": {
          "base_uri": "https://localhost:8080/",
          "height": 301
        },
        "outputId": "16d9e5ea-40d1-4515-dc37-c4db5bd92e02"
      },
      "cell_type": "code",
      "source": [
        "import numpy as np\n",
        "import scipy as sci\n",
        "import matplotlib.pyplot as plt\n",
        "from matplotlib.ticker import ScalarFormatter\n",
        "\n",
        "eps = 0.1\n",
        "def odetobesolved(t, y):\n",
        "    #when mwedge = 0, you should get bacj the results of the flat plate solution\n",
        "    #return np.vstack((y[1], -y[1]-(1/eps)*(np.exp(y[0])-t-2))) \n",
        "    return np.vstack((y[1], y[2], -0.5*y[0]*y[2])) \n",
        "\n",
        "def odebc(ya, yb):\n",
        "    return np.array([ya[0], ya[1],  yb[1]-1.0])\n",
        "\n",
        "from scipy.integrate import solve_bvp\n",
        "n = 100\n",
        "x = np.linspace(0, 10, n)\n",
        "y = np.array([(1-np.exp(-x))*x, 1-np.exp(-x), x*np.exp(-x)]) #initial guess\n",
        "\n",
        "sol = solve_bvp(odetobesolved, odebc, x, y)\n",
        "\n",
        "if sol.status != 0:\n",
        "    print(\"WARNING: sol.status is %d\" % sol.status)\n",
        "print(sol.message)\n",
        "\n",
        "\n",
        "\n",
        "plt.subplot(2, 1, 1)\n",
        "plt.plot(sol.x, sol.y[0], color='#801010', label='$y_0(x)$')\n",
        "plt.grid(alpha=0.5)\n",
        "plt.legend(framealpha=1, shadow=True)\n",
        "plt.subplot(2, 1, 2)\n",
        "plt.plot(sol.x, sol.y[1], '-', color='C0', label='$y_1(x)$')\n",
        "plt.xlabel('$x$')\n",
        "plt.grid(alpha=0.5)\n",
        "plt.legend(framealpha=1, shadow=True)\n",
        "plt.show()"
      ],
      "execution_count": 8,
      "outputs": [
        {
          "output_type": "stream",
          "text": [
            "The algorithm converged to the desired accuracy.\n"
          ],
          "name": "stdout"
        },
        {
          "output_type": "display_data",
          "data": {
            "image/png": "[encoded data removed]",
            "text/plain": [
              "<Figure size 432x288 with 2 Axes>"
            ]
          },
          "metadata": {
            "tags": []
          }
        }
      ]
    },
    {
      "metadata": {
        "id": "d0V9uih4AEpy",
        "colab_type": "code",
        "colab": {}
      },
      "cell_type": "code",
      "source": [
        ""
      ],
      "execution_count": 0,
      "outputs": []
    }
  ]
}