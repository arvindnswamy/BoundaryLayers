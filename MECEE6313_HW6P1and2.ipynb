{
  "nbformat": 4,
  "nbformat_minor": 0,
  "metadata": {
    "colab": {
      "name": "MECEE6313_HW6P1and2.ipynb",
      "version": "0.3.2",
      "provenance": [],
      "collapsed_sections": [],
      "include_colab_link": true
    },
    "kernelspec": {
      "name": "python3",
      "display_name": "Python 3"
    }
  },
  "cells": [
    {
      "cell_type": "markdown",
      "metadata": {
        "id": "view-in-github",
        "colab_type": "text"
      },
      "source": [
        "<a href=\"https://colab.research.google.com/github/arvindnswamy/BoundaryLayers/blob/master/MECEE6313_HW6P1and2.ipynb\" target=\"_parent\"><img src=\"https://colab.research.google.com/assets/colab-badge.svg\" alt=\"Open In Colab\"/></a>"
      ]
    },
    {
      "cell_type": "markdown",
      "metadata": {
        "id": "NOM8FtB-_D_e",
        "colab_type": "text"
      },
      "source": [
        "The code here can be used for problem 1 and problem 2 of HW 6. \n",
        "\n",
        "In solving this problem, you need to find $\\theta'(0; Pr)$. \n",
        "$q_w(x) = -k \\left.\\frac{\\partial T}{\\partial y}\\right\\rvert_{x=0} = -k(T_w - T_f) \\frac{1}{\\sqrt{\\nu x/U_{\\infty}}} \\left.\\frac{d\\theta}{d\\eta}\\right\\rvert_{\\eta=0}$.\n",
        "\n",
        "Of course, we don't want to plot a dimensional quantity like $q_w(x)$ or $h(x) = \\frac{q_w(x)}{T_w-T_{\\infty}}$. Hence, we plot $Nu_x = h(x)x/k$.\n",
        "\n",
        "$Nu_x = \\frac{h(x) x}{k} = -\\sqrt{\\frac{U_{\\infty}x}{\\nu}} \\theta'(0;Pr) $. Hence, we should be plotting $-\\theta'(0; Pr)$ vs $Pr$ (rather than $\\theta'(0; Pr)$).\n",
        "\n",
        "\n",
        "In solving the ODE, we need to truncate the range of $\\eta$. I ususally choose $\\eta$ to go from 0 to 10.0. This is good enough for the momentum problem and the thermal problem for moderate to high $Pr$ number fluids. \n",
        "For low $Pr$, you need more of $\\eta$ because the thermal boundary layer extends more than the momentum bundary layer. I have taken care of that in the code:\n",
        "\n",
        "\n",
        "```\n",
        "xmax = np.max((10.0, 10*(1/p)**(0.5))) #Code to increase the range over which eta is integrated for low Pr fluids\n",
        "```\n",
        "\n",
        "How do you find $f''(0)$? The array of values of $f''$ are stored in sol.y[2]. We want just the value at $\\eta = 0$. Hence, sol.y[2][0]. We obtain the value as 0.32206.\n",
        "\n",
        "How to find the value of $\\eta$ at which $u = 0.99 U_{\\infty}$. We can interpolate the numerical values of $\\eta$ and $y[1]$. Since we know the value of $y[1]$ (0.99), we'd be better off interpolating with $y[1]$ as the independent variable, and $\\eta$ as the dependent variable. The code is as follows:\n",
        "\n",
        "\n",
        "```\n",
        "from scipy import interpolate\n",
        "\n",
        "f = interpolate.interp1d(sol.y[1], sol.x) #interpolating\n",
        "print('u/U_{\\infty} = 0.99 when eta = ', f(0.99))\n",
        "```\n",
        "\n",
        "How to determine the value of $C$ and $n$ in $Nu_x = C Re_x^{1/2} Pr^n$? The relevant piece  of code is here:\n",
        "\n",
        "\n",
        "```\n",
        "#Exponent for Pr number - low Pr limit\n",
        "#Choose Pr lower than 0.01\n",
        "lowPr = Pr[0:20]\n",
        "lowPrThetaPrime = thetap[0:20,0]\n",
        "#The slope on the graph below is the exponent of Pr.\n",
        "nlowPrApprox = np.log(lowPrThetaPrime[1:]/lowPrThetaPrime[0])/np.log(lowPr[1:]/lowPr[0])\n",
        "#If we have done all things right, nlowPrApprox must be an array which is approximately the theoretical value.\n",
        "print('mean value of Pr exponent for low Pr is: ', np.mean(nlowPrApprox))\n",
        "\n",
        "modhiPr = Pr[40:]\n",
        "modhiPrThetaPrime = thetap[40:,0]\n",
        "nmodhiPrApprox = np.log(modhiPrThetaPrime[:-1]/modhiPrThetaPrime[-1])/np.log(modhiPr[:-1]/modhiPr[-1])\n",
        "print('mean value of Pr exponent for low Pr is: ', np.mean(nmodhiPrApprox))\n",
        "```\n",
        "\n",
        "The values of $n$ for the low and moderate-high $Pr$ cases are obtained to be:\n",
        "\n",
        "\n",
        "```\n",
        "mean value of Pr exponent for low Pr is:  0.4904099843024185\n",
        "mean value of Pr exponent for low Pr is:  0.33461894120935654\n",
        "```\n",
        "\n",
        "The actual values are  1/2 and 1/3 respectively.\n",
        "\n",
        "$C$ can be obtained by taking the mean value of $-\\theta'(0;Pr)/Pr^n$, where $n$ has been determined above. Then we get $C$ to be:\n",
        "\n",
        "\n",
        "```\n",
        "C for low Pr is: 0.509453653779994\n",
        "C for high Pr is: 0.336245160477067\n",
        "```\n",
        "The analytical values of $C$ for low $Pr$ and moderate/high $Pr$ limits are 0.564  and 0.339 approximately.\n"
      ]
    },
    {
      "cell_type": "code",
      "metadata": {
        "id": "sz4mUuKMAyUF",
        "colab_type": "code",
        "outputId": "e74e3152-1de3-4067-df18-3d2fa4bed26d",
        "colab": {
          "base_uri": "https://localhost:8080/",
          "height": 686
        }
      },
      "source": [
        "import numpy as np\n",
        "import scipy as sci\n",
        "import matplotlib.pyplot as plt\n",
        "from matplotlib.ticker import ScalarFormatter\n",
        "from scipy.integrate import solve_bvp\n",
        "import matplotlib\n",
        "\n",
        "from scipy import interpolate\n",
        "\n",
        "\n",
        "matplotlib.rcParams['font.size'] = 24\n",
        "matplotlib.rcParams['legend.fontsize'] = 24\n",
        "\n",
        "\n",
        "Pr = np.logspace(-4,2,60)\n",
        "\n",
        "counter = 0\n",
        "n=600\n",
        "#theta = np.zeros((len(Pr),6,n))\n",
        "thetap = np.zeros((len(Pr),n))\n",
        "#thetap= []\n",
        "\n",
        "\n",
        "for p in Pr:\n",
        "  eps = 0.1\n",
        "  \n",
        "  def odetobesolved(t, y):\n",
        "    #when mwedge = 0, you should get back the results of the flat plate solution\n",
        "    return np.vstack((y[1], y[2], -0.5*y[0]*y[2], y[4], -0.5*p*y[4]*y[0])) \n",
        "\n",
        "  def odebc(ya, yb):\n",
        "    return np.array([ya[0], ya[1],  yb[1]-1.0, ya[3]-1.0, yb[3]])\n",
        "  \n",
        "  xmax = np.max((10.0, 10*(1/p)**(0.5))) #Code to increase the range over which eta is integrated for low Pr fluids\n",
        " \n",
        "  x = np.linspace(0.0, xmax, n)\n",
        "  y = np.array([(1-np.exp(-x))*x, 1-np.exp(-x), x*np.exp(-x), (1-np.exp(-x))*x, 1-np.exp(-x)]) #initial guess\n",
        "\n",
        "  sol = solve_bvp(odetobesolved, odebc, x, y)\n",
        "  \n",
        "\n",
        "  if sol.status != 0:\n",
        "      print(\"WARNING: sol.status is %d\" % sol.status)\n",
        "  thetap[counter,:] = sol.y[4,0]\n",
        "  counter += 1\n",
        "  \n",
        "\n",
        "\n",
        "\n",
        "\n",
        "#plt.subplot(3, 1, 1)\n",
        "#plt.plot(sol.x, sol.y[0], color='#801010', label='$y_0(x)$')\n",
        "#plt.grid(alpha=0.5)\n",
        "#plt.legend(framealpha=1, shadow=True)\n",
        "#plt.subplot(3, 1, 2)\n",
        "#plt.plot(sol.x, sol.y[1], '-', color='C0', label='$y_1(x)$')\n",
        "#plt.xlabel('$x$')\n",
        "#plt.grid(alpha=0.5)\n",
        "#plt.legend(framealpha=1, shadow=True)\n",
        "#plt.subplot(1,1,1)\n",
        "\n",
        "f, (ax1) = plt.subplots(1, figsize=(9,6))\n",
        "ax1.plot(Pr,-thetap[:,0], '-', color='C1', label='$y_4(x)$')\n",
        "ax1.grid(alpha=0.5)\n",
        "ax1.legend(framealpha=1, shadow=True)\n",
        "ax1.set_xlabel(r'Prandtl number $(Pr)$')\n",
        "ax1.set_ylabel(r'$\\theta\\'(0;Pr)$')\n",
        "ax1.set_xscale(\"log\")\n",
        "ax1.set_yscale(\"log\")\n",
        "plt.show()\n",
        "\n",
        "\n",
        "f = interpolate.interp1d(sol.y[1], sol.x) #interpolating\n",
        "print('u/U_{\\infty} = 0.99 when eta = ', f(0.99))\n",
        "\n",
        "#Exponent for Pr number - low Pr limit\n",
        "#Choose Pr lower than 0.01\n",
        "lowPr = Pr[0:20]\n",
        "lowPrThetaPrime = thetap[0:20,0]\n",
        "#The slope on the graph below is the exponent of Pr.\n",
        "nlowPrApprox = np.log(lowPrThetaPrime[1:]/lowPrThetaPrime[0])/np.log(lowPr[1:]/lowPr[0])\n",
        "#If we have done all things right, nlowPrApprox must be an array which is approximately the theoretical value.\n",
        "print('mean value of Pr exponent for low Pr is: ', np.mean(nlowPrApprox))\n",
        "\n",
        "modhiPr = Pr[40:]\n",
        "modhiPrThetaPrime = thetap[40:,0]\n",
        "nmodhiPrApprox = np.log(modhiPrThetaPrime[:-1]/modhiPrThetaPrime[-1])/np.log(modhiPr[:-1]/modhiPr[-1])\n",
        "print('mean value of Pr exponent for low Pr is: ', np.mean(nmodhiPrApprox))\n",
        "\n",
        "mean_nlowPr = np.mean(nlowPrApprox)\n",
        "mean_nmodhiPr = np.mean(nmodhiPrApprox)\n",
        "\n",
        "mean_ClowPr = -np.mean(lowPrThetaPrime/lowPr**mean_nlowPr)\n",
        "mean_CmodhiPr = -np.mean(modhiPrThetaPrime/modhiPr**mean_nmodhiPr)\n",
        "\n",
        "print('C for low Pr is:', mean_ClowPr)\n",
        "print('C for high Pr is:', mean_CmodhiPr)"
      ],
      "execution_count": 0,
      "outputs": [
        {
          "output_type": "stream",
          "text": [
            "WARNING: sol.status is 1\n",
            "WARNING: sol.status is 1\n",
            "WARNING: sol.status is 1\n",
            "WARNING: sol.status is 1\n",
            "WARNING: sol.status is 1\n",
            "WARNING: sol.status is 1\n",
            "WARNING: sol.status is 1\n",
            "WARNING: sol.status is 1\n",
            "WARNING: sol.status is 1\n",
            "WARNING: sol.status is 1\n"
          ],
          "name": "stdout"
        },
        {
          "output_type": "display_data",
          "data": {
            "image/png": "[encoded data removed]",
            "text/plain": [
              "<Figure size 648x432 with 1 Axes>"
            ]
          },
          "metadata": {
            "tags": []
          }
        },
        {
          "output_type": "stream",
          "text": [
            "u/U_{\\infty} = 0.99 when eta =  4.909914076637683\n",
            "mean value of Pr exponent for low Pr is:  0.4904260671094449\n",
            "mean value of Pr exponent for low Pr is:  0.3322966110483943\n",
            "C for low Pr is: 0.5095270783158099\n",
            "C for high Pr is: 0.3356615938546049\n"
          ],
          "name": "stdout"
        }
      ]
    },
    {
      "cell_type": "code",
      "metadata": {
        "id": "MdQsiFbCrBgr",
        "colab_type": "code",
        "outputId": "d34a73a5-933c-4be0-8097-8c89ee471c33",
        "colab": {
          "base_uri": "https://localhost:8080/",
          "height": 52
        }
      },
      "source": [
        "print(sol.y[2][0])\n",
        "print((0.33206/12)**(1/3)/0.89298)"
      ],
      "execution_count": 0,
      "outputs": [
        {
          "output_type": "stream",
          "text": [
            "0.3320577726203251\n",
            "0.3387167760575283\n"
          ],
          "name": "stdout"
        }
      ]
    },
    {
      "cell_type": "code",
      "metadata": {
        "id": "Z7iJoVDL7JtJ",
        "colab_type": "code",
        "colab": {}
      },
      "source": [
        ""
      ],
      "execution_count": 0,
      "outputs": []
    }
  ]
}